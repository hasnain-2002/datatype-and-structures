{
  "nbformat": 4,
  "nbformat_minor": 0,
  "metadata": {
    "colab": {
      "provenance": []
    },
    "kernelspec": {
      "name": "python3",
      "display_name": "Python 3"
    },
    "language_info": {
      "name": "python"
    }
  },
  "cells": [
    {
      "cell_type": "code",
      "execution_count": null,
      "metadata": {
        "colab": {
          "base_uri": "https://localhost:8080/"
        },
        "id": "yWnNM9XTsPSs",
        "outputId": "eda45783-f516-4bf1-a48b-c1a945576eee"
      },
      "outputs": [
        {
          "output_type": "stream",
          "name": "stdout",
          "text": [
            "Hashnen\n"
          ]
        }
      ],
      "source": [
        "#write a code to create a string with your name and print it.\n",
        "name=\"Hashnen\"\n",
        "print(name)"
      ]
    },
    {
      "cell_type": "code",
      "source": [
        "#write a code to find the length of the string 'hello world'.\n",
        "mycode=\"Hello world\"\n",
        "print(len(mycode))"
      ],
      "metadata": {
        "colab": {
          "base_uri": "https://localhost:8080/"
        },
        "id": "b7isIC9JuVlP",
        "outputId": "0b44a3b2-f3a3-4932-bd44-c29fc75c88c0"
      },
      "execution_count": null,
      "outputs": [
        {
          "output_type": "stream",
          "name": "stdout",
          "text": [
            "10\n"
          ]
        }
      ]
    },
    {
      "cell_type": "code",
      "source": [
        "#write a code to slice the first 3 characters from the string 'python programming'.\n",
        "mycode=\"python programming\"\n",
        "print(mycode[0:3])\n"
      ],
      "metadata": {
        "colab": {
          "base_uri": "https://localhost:8080/"
        },
        "id": "sQ_GXgjqu3TX",
        "outputId": "4b675898-6647-4611-cfcb-9ef724f69b3a"
      },
      "execution_count": null,
      "outputs": [
        {
          "output_type": "stream",
          "name": "stdout",
          "text": [
            "pyt\n"
          ]
        }
      ]
    },
    {
      "cell_type": "code",
      "source": [
        "#write a code to convert the string 'hello' to uppercase.\n",
        "mycode=\"hello\"\n",
        "print(mycode.upper())"
      ],
      "metadata": {
        "colab": {
          "base_uri": "https://localhost:8080/"
        },
        "id": "Q_Gvzs1SvXzF",
        "outputId": "9f27f390-3385-4066-bead-b5800bc869d7"
      },
      "execution_count": null,
      "outputs": [
        {
          "output_type": "stream",
          "name": "stdout",
          "text": [
            "HELLO\n"
          ]
        }
      ]
    },
    {
      "cell_type": "code",
      "source": [
        "# Write a code to replace the word \"apple\" with \"orange\" in the string \"I like apple.\n",
        "mycode=\"I like apple\"\n",
        "print(mycode.replace(\"apple\",\"orange\"))\n"
      ],
      "metadata": {
        "colab": {
          "base_uri": "https://localhost:8080/"
        },
        "id": "p1YJXNahvcmG",
        "outputId": "6fa8532a-67f0-4cde-8be3-620b2083f4d3"
      },
      "execution_count": null,
      "outputs": [
        {
          "output_type": "stream",
          "name": "stdout",
          "text": [
            "I like orange\n"
          ]
        }
      ]
    },
    {
      "cell_type": "code",
      "source": [
        "#Write a code to create a list with numbers 1 to 5 and print it.\n",
        "mycode=[1,2,3,4,5]\n",
        "print(mycode)"
      ],
      "metadata": {
        "colab": {
          "base_uri": "https://localhost:8080/"
        },
        "id": "W1ZvRQHRx7uo",
        "outputId": "ceffea36-69ac-46ca-b655-b23f03b239e5"
      },
      "execution_count": null,
      "outputs": [
        {
          "output_type": "stream",
          "name": "stdout",
          "text": [
            "[1, 2, 3, 4, 5]\n"
          ]
        }
      ]
    },
    {
      "cell_type": "code",
      "source": [
        "#Write a code to append the number 10 to the list [1, 2, 3, 4]\n",
        "mycode=[1,2,3,4]\n",
        "mycode.append(10)\n",
        "print(mycode)\n",
        "\n",
        "# Write a code to remove the number 3 from the list [1, 2, 3, 4, 5]\n",
        "mycode=[1,2,3,4,5]\n",
        "mycode.remove(3)\n",
        "print(mycode)\n",
        "\n",
        "# Write a code to access the second element in the list ['a', 'b', 'c', 'd']\n",
        "mycode=['a','b','c','d']\n",
        "print(mycode[1])\n",
        "\n"
      ],
      "metadata": {
        "colab": {
          "base_uri": "https://localhost:8080/"
        },
        "id": "m_gSDnkayLl8",
        "outputId": "c77b318a-fdb6-447e-e9e7-e9d17d91bed9"
      },
      "execution_count": null,
      "outputs": [
        {
          "output_type": "stream",
          "name": "stdout",
          "text": [
            "[1, 2, 3, 4, 10]\n",
            "[1, 2, 4, 5]\n",
            "b\n"
          ]
        }
      ]
    },
    {
      "cell_type": "code",
      "source": [
        "# Write a code to reverse the list [10, 20, 30, 40, 50].\n",
        "mycode=[10,20,30,40,50]\n",
        "mycode.reverse()\n",
        "print(mycode)\n"
      ],
      "metadata": {
        "colab": {
          "base_uri": "https://localhost:8080/"
        },
        "id": "YuO9HpkUyneO",
        "outputId": "d9836114-49ee-452e-a9af-0c9b0dd44d0f"
      },
      "execution_count": null,
      "outputs": [
        {
          "output_type": "stream",
          "name": "stdout",
          "text": [
            "[50, 40, 30, 20, 10]\n"
          ]
        }
      ]
    },
    {
      "cell_type": "code",
      "source": [
        "# Write a code to create a tuple with the elements 100, 200, 300 and print it.\n",
        "numbers = (100, 200, 300 )\n",
        "print(numbers)\n",
        "\n",
        "# Write a code to find the length of the tuple ('apple', 'banana', 'cherry').\n",
        "fruits = ('apple', 'banana', 'cherry')\n",
        "print(numbers )\n",
        "\n",
        "# Write a code to access the second-to-last element of the tuple ('red', 'green', 'blue', 'yellow').\n",
        "colors=('red', 'green', 'blue', 'yellow')\n",
        "print(colors[-2])\n",
        "\n",
        "# Write a code to find the minimum number in the tuple (10, 20, 5, 15).\n",
        "numbers=(10, 20, 5, 15)\n",
        "print(min(numbers))\n",
        "\n",
        "# Write a code to find the index of the element \"cat\" in the tuple ('dog', 'cat', 'rabbit').\n",
        "animals=('dog', 'cat', 'rabbit')\n",
        "print(animals.index('cat'))\n",
        "\n",
        "# Write a code to create a tuple containing three different fruits and check if \"kiwi\" is in it\n",
        "fruits=(\"apple\", \"banana\", \"mango\")\n",
        "print(\"kiwi\" in fruits)"
      ],
      "metadata": {
        "colab": {
          "base_uri": "https://localhost:8080/"
        },
        "id": "jMZ-D2O2y8VY",
        "outputId": "cd428f92-666d-4aa1-a639-9a08ca7fbb71"
      },
      "execution_count": null,
      "outputs": [
        {
          "output_type": "stream",
          "name": "stdout",
          "text": [
            "(100, 200, 300)\n",
            "(100, 200, 300)\n",
            "blue\n",
            "5\n",
            "1\n",
            "False\n"
          ]
        }
      ]
    },
    {
      "cell_type": "code",
      "source": [
        " #Write a code to create a set with the elements 'a', 'b', 'c' and print it.\n",
        " mycode={'a','b','c'}\n",
        " print(mycode)\n",
        "\n",
        " # Write a code to add the number 5 to the set {1, 2, 3, 4}.\n",
        " mycode={1,2,3,4}\n",
        " mycode.add(5)\n",
        " print(mycode)\n",
        "\n",
        " #Write a code to clear all elements from the set {1, 2, 3, 4, 5}.\n",
        " numbers={1,2,3,4,5}\n",
        " numbers.clear()\n",
        " print(numbers)\n",
        "\n",
        "\n",
        " #Write a code to remove the element 4 from the set {1, 2, 3, 4}\n",
        " numbers={1,2,3,4}\n",
        " numbers.remove(4)\n",
        " print(numbers)\n"
      ],
      "metadata": {
        "colab": {
          "base_uri": "https://localhost:8080/"
        },
        "id": "WS4G7iaIy8eP",
        "outputId": "b6dcdf0a-cae3-4178-b537-5339b6a08ef7"
      },
      "execution_count": null,
      "outputs": [
        {
          "output_type": "stream",
          "name": "stdout",
          "text": [
            "{'b', 'c', 'a'}\n",
            "{1, 2, 3, 4, 5}\n",
            "set()\n",
            "{1, 2, 3}\n"
          ]
        }
      ]
    },
    {
      "cell_type": "code",
      "source": [
        " #Write a code to find the union of two sets {1, 2, 3} and {3, 4, 5}.\n",
        "set1={1,2,3}\n",
        "set2={3,4,5}\n",
        "union_set=set1.union(set2)\n",
        "print(union_set)\n",
        "\n",
        " #Write a code to find the intersection of two sets {1, 2, 3} and {2, 3, 4}.\n",
        " set1={1,2,3}\n",
        " set2={2,3,4}\n",
        " intersection_set=set1.intersection(set2)\n",
        " print(intersection_set)\n",
        "\n",
        " #Write a code to create a dictionary with the keys \"name\", \"age\", and \"city\", and print it.\n",
        "person={\"name\":\"hashnen\",\"age\":19,\"city\":\"mumbai\"}\n",
        "print(person)\n",
        "\n",
        " #Write a code to add a new key-value pair \"country\": \"USA\" to the dictionary {'name': 'John', 'age': 25}.\n",
        " person={'name':'john','age':25}\n",
        " person[\"country\"]=\"USA\"\n",
        " print(person[\"name\"])\n",
        "\n",
        " #Write a code to access the value associated with the key \"name\" in the dictionary {'name': 'Alice', 'age': 30}.\n",
        " person={'name':'alice','age':30}\n",
        " print(person[\"name\"])\n",
        "\n",
        " #Write a code to remove the key \"age\" from the dictionary {'name': 'Bob', 'age': 22, 'city': 'New York'}.\n",
        " person={'name':'Bob','age':22,'city':'New York'}\n",
        " person.pop(\"age\")\n",
        " print(person)\n",
        "\n",
        " #Write a code to check if the key \"city\" exists in the dictionary {'name': 'Alice', 'city': 'Paris'}.\n",
        " person={'name':'Alice','city':'paris'}\n",
        " print(\"city\" in person)\n",
        "\n",
        " #Write a code to create a list, a tuple, and a dictionary, and print them all.\n",
        " my_list=[1,2,3,4,5]\n",
        " my_tuple=(10,20,30)\n",
        " my_dict={\"name\":\"hashnen\",\"age\":19}\n",
        "\n",
        " print(my_list)\n",
        " print(my_tuple)\n",
        " print(my_dict)\n",
        "\n",
        " #Write a code to create a list of 5 random numbers between 1 and 100, sort it in ascending order, and print the result (replaced)\n",
        " import random\n",
        "\n",
        " numbers = random.sample(range(1,101),5)\n",
        " numbers.sort()\n",
        " print(numbers)"
      ],
      "metadata": {
        "id": "Krpag4ef4Mc_",
        "colab": {
          "base_uri": "https://localhost:8080/"
        },
        "outputId": "84079103-a861-43cc-f083-b7dfef617570"
      },
      "execution_count": null,
      "outputs": [
        {
          "output_type": "stream",
          "name": "stdout",
          "text": [
            "{1, 2, 3, 4, 5}\n",
            "{2, 3}\n",
            "{'name': 'hashnen', 'age': 19, 'city': 'mumbai'}\n",
            "john\n",
            "alice\n",
            "{'name': 'Bob', 'city': 'New York'}\n",
            "True\n",
            "[1, 2, 3, 4, 5]\n",
            "(10, 20, 30)\n",
            "{'name': 'hashnen', 'age': 19}\n",
            "[3, 32, 54, 79, 92]\n"
          ]
        }
      ]
    },
    {
      "cell_type": "code",
      "source": [
        "#Write a code to create a list with strings and print the element at the third index.\n",
        "words=[\"apple\",\"banana\",\"cherry\",\"date\",\"grape\"]\n",
        "print(words[3])\n",
        "\n",
        " #Write a code to combine two dictionaries into one and print the result.\n",
        "dict1={\"a\":1,\"b\":2}\n",
        "dict2={\"c\":3,\"d\":4}\n",
        "combined_dict={**dict1,**dict2}\n",
        "print(combined_dict)\n",
        "\n",
        " #Write a code to convert a list of strings into a set\n",
        "words=[\"apple\",\"banana\",\"cherry\",\"apple\",\"banana\"]\n",
        "words_set=set(words)\n",
        "print(words_set)\n"
      ],
      "metadata": {
        "colab": {
          "base_uri": "https://localhost:8080/"
        },
        "id": "a3nxy-DKDnfA",
        "outputId": "b1554acb-1695-44d3-f966-28db407f4120"
      },
      "execution_count": null,
      "outputs": [
        {
          "output_type": "stream",
          "name": "stdout",
          "text": [
            "date\n",
            "{'a': 1, 'b': 2, 'c': 3, 'd': 4}\n",
            "{'banana', 'cherry', 'apple'}\n"
          ]
        }
      ]
    },
    {
      "cell_type": "markdown",
      "source": [
        "#THEORY QUESTION AND ANSWER"
      ],
      "metadata": {
        "id": "mEFpV1gghATF"
      }
    },
    {
      "cell_type": "markdown",
      "source": [
        "1.What are data structures, and why are they important?\n",
        "Data structures are ways to store and organize data. They are important because they make it easier to manage, retrieve, and manipulate data efficiently. Examples in Python include lists, dictionaries, and sets."
      ],
      "metadata": {
        "id": "bC7-hqiihHdV"
      }
    },
    {
      "cell_type": "markdown",
      "source": [
        "2.Explain the difference between mutable and immutable data types with examples.\n",
        "ans)Mutable types can be changed after they are created.\n",
        "Example:\n",
        "lst = [1, 2, 3]  # A list\n",
        "lst[0] = 5  # Now lst is [5, 2, 3]\n",
        "Immutable types cannot be changed once they are created.\n",
        "Example:\n",
        "x = \"hello\"  x[0] = \"H\"  # This will give an error because strings are immutable"
      ],
      "metadata": {
        "id": "GGekPyPThNHT"
      }
    },
    {
      "cell_type": "markdown",
      "source": [
        "3.What are the main differences between lists and tuples in Python?\n",
        "\n",
        "Lists are mutable (can be changed).\n",
        "Tuples are immutable (cannot be changed).\n",
        "Lists use square brackets [], and tuples use parentheses ()."
      ],
      "metadata": {
        "id": "gyub0GZRi3BA"
      }
    },
    {
      "cell_type": "markdown",
      "source": [
        "4.Describe how dictionaries store data\n",
        "Dictionaries store data in key-value pairs. Each key is unique, and each key maps to a value.\n",
        "Example:\n",
        "\n",
        "my_dict = {\"name\": \"Alice\", \"age\": 25}"
      ],
      "metadata": {
        "id": "G3VPpnh6jCO6"
      }
    },
    {
      "cell_type": "markdown",
      "source": [
        "5.Why might you use a set instead of a list in Python?\n",
        "we might use a set when we want to store unique items and don't care about the order. Sets automatically remove duplicates."
      ],
      "metadata": {
        "id": "LOc2z6hAjT0v"
      }
    },
    {
      "cell_type": "markdown",
      "source": [
        "6.What is a string in Python, and how is it different from a list?\n",
        "A string is a sequence of characters (text). It's immutable, meaning it can't be changed once created.\n",
        "A list is a collection of items that can be of any type and is mutable."
      ],
      "metadata": {
        "id": "yCNT2waxjeSx"
      }
    },
    {
      "cell_type": "markdown",
      "source": [
        "7.How do tuples ensure data integrity in Python?\n",
        "Since tuples are immutable, their data cannot be changed. This ensures that the values inside a tuple remain constant and unchanged throughout the program."
      ],
      "metadata": {
        "id": "GOZox9mRjmae"
      }
    },
    {
      "cell_type": "markdown",
      "source": [
        "8.What is a hash table, and how does it relate to dictionaries in Python?\n",
        "A hash table is a data structure that stores data in a way that makes searching fast. Python dictionaries are implemented using hash tables, meaning they allow fast lookups based on keys."
      ],
      "metadata": {
        "id": "E4d8oWbxwAm6"
      }
    },
    {
      "cell_type": "markdown",
      "source": [
        "9.Can lists contain different data types in Python?\n",
        "Yes, lists in Python can contain items of different types."
      ],
      "metadata": {
        "id": "s0uRmzbHwIB5"
      }
    },
    {
      "cell_type": "markdown",
      "source": [
        "10.Explain why strings are immutable in Python\n",
        "Strings are immutable because it allows them to be more efficient and safer to use, as they can't be changed accidentally. Immutable objects can also be shared safely across different parts of a program.\n",
        "\n",
        "11.What advantages do dictionaries offer over lists for certain tasks?\n",
        "Dictionaries are faster than lists for looking up values when you know the key. They also allow you to store data as key-value pairs, making it easier to organize information.\n",
        "\n"
      ],
      "metadata": {
        "id": "_9BAn2N-wP7G"
      }
    },
    {
      "cell_type": "markdown",
      "source": [
        "12.How do sets handle duplicate values in Python?\n",
        "Sets automatically remove duplicates. If you try to add a duplicate value, it won't appear in the set."
      ],
      "metadata": {
        "id": "w_lOCrCUwX0j"
      }
    },
    {
      "cell_type": "markdown",
      "source": [
        "13.Describe a scenario where using a tuple would be preferable over a list\n",
        "Tuples are preferred when you need to store a fixed collection of items that should not be changed. For example, storing coordinates (x, y) would be better in a tuple because the values should remain constant."
      ],
      "metadata": {
        "id": "fS-HovRXwhnC"
      }
    },
    {
      "cell_type": "markdown",
      "source": [
        "14.How does the “in” keyword work differently for lists and dictionaries?\n",
        "\n",
        "For lists, \"in\" checks if the item exists in the list.\n",
        "Example:\n",
        "lst = [1, 2, 3]\n",
        "print(2 in lst)  # True\n",
        "\n",
        "For dictionaries, \"in\" checks if the key exists.\n",
        "Example:\n",
        "my_dict = {\"name\": \"Alice\", \"age\": 25}\n",
        "print(\"name\" in my_dict)  # True\n",
        "\n",
        "15.Can you modify the elements of a tuple? Explain why or why not\n",
        "No, we can't modify the elements of a tuple because tuples are immutable. Once created, their content cannot be changed.\n",
        "\n",
        "16.What is a nested dictionary, and give an example of its use case\n",
        "A nested dictionary is a dictionary inside another dictionary.\n",
        "\n",
        "Example:\n",
        "nested_dict = {\"person\": {\"name\": \"Alice\", \"age\": 25}}\n",
        "print(nested_dict[\"person\"][\"name\"])  # \"Alice\"\n",
        "\n",
        "It’s useful for storing more complex data structures, like when representing a person’s information along with their address or phone numbers.\n",
        "\n",
        "17.Describe the time complexity of accessing elements in a dictionary\n",
        "Accessing an element in a dictionary by key is very fast, with a time complexity of O(1), meaning it takes constant time regardless of the size of the dictionary.\n",
        "\n",
        "18.In what situations are lists preferred over dictionaries?\n",
        "Lists are preferred when we need to store a collection of items in a specific order, and the items don’t need to be associated with unique keys. Lists are also better when you need to access elements by index.\n",
        "\n",
        "19.Why are dictionaries considered unordered, and how does that affect data retrieval?\n",
        "Dictionaries are considered unordered because the items don’t maintain any specific order. This means we can’t rely on the order in which items are stored. However, we can still access values quickly using keys.\n",
        "\n",
        "20.Explain the difference between a list and a dictionary in terms of data retrieval\n",
        "\n",
        "Lists retrieve data by index, which means the order matters.\n",
        "Example:\n",
        "lst = [1, 2, 3]\n",
        "print(lst[0])  # 1\n",
        "\n",
        "Dictionaries retrieve data by key. The order doesn’t matter, but you need to know the key.\n",
        "Example:\n",
        "my_dict = {\"name\": \"Alice\", \"age\": 25}\n",
        "print(my_dict[\"name\"])  # \"Alice\"\n",
        "\n",
        "\n",
        "\n",
        "\n"
      ],
      "metadata": {
        "id": "ARF6ULeewnRE"
      }
    }
  ]
}